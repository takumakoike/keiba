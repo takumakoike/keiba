{
  "nbformat": 4,
  "nbformat_minor": 0,
  "metadata": {
    "colab": {
      "provenance": [],
      "mount_file_id": "1cupeqidlgahfmCKrmXgi1ZsZ7SKgSsbx",
      "authorship_tag": "ABX9TyO9Oyr/yUnM1T0FsYVgyy11"
    },
    "kernelspec": {
      "name": "python3",
      "display_name": "Python 3"
    },
    "language_info": {
      "name": "python"
    }
  },
  "cells": [
    {
      "cell_type": "code",
      "execution_count": null,
      "metadata": {
        "id": "J7BbX8tef30G",
        "colab": {
          "base_uri": "https://localhost:8080/"
        },
        "outputId": "9aee08ff-9525-4568-9925-fa81747d937d"
      },
      "outputs": [
        {
          "output_type": "stream",
          "name": "stdout",
          "text": [
            "Requirement already satisfied: BeautifulSoup4 in /usr/local/lib/python3.10/dist-packages (4.12.3)\n",
            "Requirement already satisfied: soupsieve>1.2 in /usr/local/lib/python3.10/dist-packages (from BeautifulSoup4) (2.6)\n",
            "Requirement already satisfied: requests in /usr/local/lib/python3.10/dist-packages (2.32.3)\n",
            "Requirement already satisfied: charset-normalizer<4,>=2 in /usr/local/lib/python3.10/dist-packages (from requests) (3.4.0)\n",
            "Requirement already satisfied: idna<4,>=2.5 in /usr/local/lib/python3.10/dist-packages (from requests) (3.10)\n",
            "Requirement already satisfied: urllib3<3,>=1.21.1 in /usr/local/lib/python3.10/dist-packages (from requests) (2.2.3)\n",
            "Requirement already satisfied: certifi>=2017.4.17 in /usr/local/lib/python3.10/dist-packages (from requests) (2024.12.14)\n"
          ]
        }
      ],
      "source": [
        "!pip install BeautifulSoup4\n",
        "!pip install requests"
      ]
    },
    {
      "cell_type": "code",
      "source": [
        "import pandas as pd\n",
        "import requests\n",
        "from bs4 import BeautifulSoup as bs\n",
        "import csv\n",
        "import os"
      ],
      "metadata": {
        "id": "1xE75tFJk_bD"
      },
      "execution_count": 73,
      "outputs": []
    },
    {
      "cell_type": "code",
      "source": [
        "from google.colab import userdata\n",
        "\n",
        "\n",
        "# 全体のURL\n",
        "base_url = userdata.get('BASE_URL')\n",
        "# レースのURL\n",
        "race_base_url = userdata.get('RACE_BASE_URL')\n",
        "\n",
        "\n",
        "# 全体のページから各レースページに遷移するリンクを取得\n",
        "page_data = requests.get(base_url)\n",
        "soup = bs(page_data.content, \"html.parser\")\n",
        "all_links = soup.select('td.result > a')\n",
        "\n",
        "\n",
        "# リンクごとに情報を取得し、CSVに書き込み\n",
        "for href in all_links:\n",
        "    text = href.get('href')\n",
        "    result_url = race_base_url + text\n",
        "\n",
        "    req = requests.get(result_url)\n",
        "    soup = bs(req.content, \"html.parser\")\n",
        "    # レースタイトル\n",
        "    race_title = soup.select(\"div.cell.date\")[0].text\n",
        "\n",
        "    # レース結果\n",
        "    race_headers = soup.select(\"thead\")\n",
        "    race_results = soup.select(\"tbody\")\n",
        "    race_headers_rows = race_headers[0].find_all(\"tr\")\n",
        "    rows = race_results[0].find_all(\"tr\")\n",
        "    header = [\"レースタイトル\"] + [cell.get_text(strip=True) for cell in race_headers[0].find_all([\"th\", \"td\"])]\n",
        "\n",
        "\n",
        "    data = [\n",
        "        [\n",
        "            cell.find('img')['src'].rsplit('/', 1)[-1].rsplit('.', 1)[0]\n",
        "            if cell.has_attr('class') and 'waku' in cell['class'] and cell.find('img')\n",
        "            else cell.get_text(strip=True)\n",
        "            for cell in row.find_all(['th', 'td'])\n",
        "        ]\n",
        "        for row in rows\n",
        "    ]\n",
        "\n",
        "    data_with_new_column = [\n",
        "        [race_title] + row\n",
        "        for row in data\n",
        "    ]\n",
        "\n",
        "    df = pd.DataFrame(data_with_new_column)\n",
        "    csv_file = userdata.get('CSV_FILE_PATH')\n",
        "\n",
        "    # 最初の書き込み時はヘッダーを含める\n",
        "    if not os.path.exists(csv_file):\n",
        "        # ファイルが存在しない場合はヘッダー付きで書き込む\n",
        "        df.to_csv(csv_file, mode=\"w\", index=False, header=True, encoding=\"utf-8\")\n",
        "    else:\n",
        "        # ファイルが存在する場合はヘッダーなしで追記\n",
        "        df.to_csv(csv_file, mode=\"a\", index=False, header=False, encoding=\"utf-8\")"
      ],
      "metadata": {
        "id": "ifJiULQyDwhS"
      },
      "execution_count": 86,
      "outputs": []
    }
  ]
}